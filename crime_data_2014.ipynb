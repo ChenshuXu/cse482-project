{
 "cells": [
  {
   "cell_type": "markdown",
   "metadata": {},
   "source": [
    "# Processing 2014 crime data"
   ]
  },
  {
   "cell_type": "code",
   "execution_count": 1,
   "metadata": {},
   "outputs": [
    {
     "data": {
      "text/html": [
       "<div>\n",
       "<style scoped>\n",
       "    .dataframe tbody tr th:only-of-type {\n",
       "        vertical-align: middle;\n",
       "    }\n",
       "\n",
       "    .dataframe tbody tr th {\n",
       "        vertical-align: top;\n",
       "    }\n",
       "\n",
       "    .dataframe thead th {\n",
       "        text-align: right;\n",
       "    }\n",
       "</style>\n",
       "<table border=\"1\" class=\"dataframe\">\n",
       "  <thead>\n",
       "    <tr style=\"text-align: right;\">\n",
       "      <th></th>\n",
       "      <th>ID</th>\n",
       "      <th>Case Number</th>\n",
       "      <th>Date</th>\n",
       "      <th>Block</th>\n",
       "      <th>IUCR</th>\n",
       "      <th>Primary Type</th>\n",
       "      <th>Description</th>\n",
       "      <th>Location Description</th>\n",
       "      <th>Arrest</th>\n",
       "      <th>Domestic</th>\n",
       "      <th>...</th>\n",
       "      <th>Ward</th>\n",
       "      <th>Community Area</th>\n",
       "      <th>FBI Code</th>\n",
       "      <th>X Coordinate</th>\n",
       "      <th>Y Coordinate</th>\n",
       "      <th>Year</th>\n",
       "      <th>Updated On</th>\n",
       "      <th>Latitude</th>\n",
       "      <th>Longitude</th>\n",
       "      <th>Location</th>\n",
       "    </tr>\n",
       "  </thead>\n",
       "  <tbody>\n",
       "    <tr>\n",
       "      <th>0</th>\n",
       "      <td>10581023</td>\n",
       "      <td>HZ329792</td>\n",
       "      <td>09/01/2014 08:00:00 AM</td>\n",
       "      <td>0000X E LAKE ST</td>\n",
       "      <td>1140</td>\n",
       "      <td>DECEPTIVE PRACTICE</td>\n",
       "      <td>EMBEZZLEMENT</td>\n",
       "      <td>OTHER</td>\n",
       "      <td>True</td>\n",
       "      <td>False</td>\n",
       "      <td>...</td>\n",
       "      <td>42.0</td>\n",
       "      <td>32</td>\n",
       "      <td>12</td>\n",
       "      <td>NaN</td>\n",
       "      <td>NaN</td>\n",
       "      <td>2014</td>\n",
       "      <td>03/01/2018 03:52:35 PM</td>\n",
       "      <td>NaN</td>\n",
       "      <td>NaN</td>\n",
       "      <td>NaN</td>\n",
       "    </tr>\n",
       "    <tr>\n",
       "      <th>1</th>\n",
       "      <td>10000348</td>\n",
       "      <td>HY190226</td>\n",
       "      <td>12/15/2014 04:00:00 PM</td>\n",
       "      <td>0000X E GRAND AVE</td>\n",
       "      <td>1150</td>\n",
       "      <td>DECEPTIVE PRACTICE</td>\n",
       "      <td>CREDIT CARD FRAUD</td>\n",
       "      <td>DEPARTMENT STORE</td>\n",
       "      <td>False</td>\n",
       "      <td>False</td>\n",
       "      <td>...</td>\n",
       "      <td>42.0</td>\n",
       "      <td>8</td>\n",
       "      <td>11</td>\n",
       "      <td>1176796.0</td>\n",
       "      <td>1903917.0</td>\n",
       "      <td>2014</td>\n",
       "      <td>02/10/2018 03:50:01 PM</td>\n",
       "      <td>41.891695</td>\n",
       "      <td>-87.626156</td>\n",
       "      <td>(41.891694878, -87.626155832)</td>\n",
       "    </tr>\n",
       "    <tr>\n",
       "      <th>2</th>\n",
       "      <td>10000465</td>\n",
       "      <td>HY190234</td>\n",
       "      <td>12/15/2014 04:30:00 PM</td>\n",
       "      <td>007XX N MICHIGAN AVE</td>\n",
       "      <td>1150</td>\n",
       "      <td>DECEPTIVE PRACTICE</td>\n",
       "      <td>CREDIT CARD FRAUD</td>\n",
       "      <td>DEPARTMENT STORE</td>\n",
       "      <td>False</td>\n",
       "      <td>False</td>\n",
       "      <td>...</td>\n",
       "      <td>42.0</td>\n",
       "      <td>8</td>\n",
       "      <td>11</td>\n",
       "      <td>1177303.0</td>\n",
       "      <td>1905177.0</td>\n",
       "      <td>2014</td>\n",
       "      <td>02/10/2018 03:50:01 PM</td>\n",
       "      <td>41.895141</td>\n",
       "      <td>-87.624256</td>\n",
       "      <td>(41.895140898, -87.624255632)</td>\n",
       "    </tr>\n",
       "    <tr>\n",
       "      <th>3</th>\n",
       "      <td>10000517</td>\n",
       "      <td>HY190259</td>\n",
       "      <td>11/15/2014 12:00:00 PM</td>\n",
       "      <td>082XX S ELLIS AVE</td>\n",
       "      <td>2820</td>\n",
       "      <td>OTHER OFFENSE</td>\n",
       "      <td>TELEPHONE THREAT</td>\n",
       "      <td>APARTMENT</td>\n",
       "      <td>False</td>\n",
       "      <td>True</td>\n",
       "      <td>...</td>\n",
       "      <td>8.0</td>\n",
       "      <td>44</td>\n",
       "      <td>26</td>\n",
       "      <td>1184330.0</td>\n",
       "      <td>1850584.0</td>\n",
       "      <td>2014</td>\n",
       "      <td>02/10/2018 03:50:01 PM</td>\n",
       "      <td>41.745172</td>\n",
       "      <td>-87.600159</td>\n",
       "      <td>(41.745171682, -87.600158569)</td>\n",
       "    </tr>\n",
       "    <tr>\n",
       "      <th>4</th>\n",
       "      <td>10000701</td>\n",
       "      <td>HY190349</td>\n",
       "      <td>06/20/2014 09:00:00 AM</td>\n",
       "      <td>004XX E ERIE ST</td>\n",
       "      <td>1130</td>\n",
       "      <td>DECEPTIVE PRACTICE</td>\n",
       "      <td>FRAUD OR CONFIDENCE GAME</td>\n",
       "      <td>OTHER</td>\n",
       "      <td>False</td>\n",
       "      <td>False</td>\n",
       "      <td>...</td>\n",
       "      <td>42.0</td>\n",
       "      <td>8</td>\n",
       "      <td>11</td>\n",
       "      <td>1179370.0</td>\n",
       "      <td>1904874.0</td>\n",
       "      <td>2014</td>\n",
       "      <td>02/10/2018 03:50:01 PM</td>\n",
       "      <td>41.894262</td>\n",
       "      <td>-87.616673</td>\n",
       "      <td>(41.894262326, -87.616673471)</td>\n",
       "    </tr>\n",
       "  </tbody>\n",
       "</table>\n",
       "<p>5 rows × 22 columns</p>\n",
       "</div>"
      ],
      "text/plain": [
       "         ID Case Number                    Date                 Block  IUCR  \\\n",
       "0  10581023    HZ329792  09/01/2014 08:00:00 AM       0000X E LAKE ST  1140   \n",
       "1  10000348    HY190226  12/15/2014 04:00:00 PM     0000X E GRAND AVE  1150   \n",
       "2  10000465    HY190234  12/15/2014 04:30:00 PM  007XX N MICHIGAN AVE  1150   \n",
       "3  10000517    HY190259  11/15/2014 12:00:00 PM     082XX S ELLIS AVE  2820   \n",
       "4  10000701    HY190349  06/20/2014 09:00:00 AM       004XX E ERIE ST  1130   \n",
       "\n",
       "         Primary Type               Description Location Description  Arrest  \\\n",
       "0  DECEPTIVE PRACTICE              EMBEZZLEMENT                OTHER    True   \n",
       "1  DECEPTIVE PRACTICE         CREDIT CARD FRAUD     DEPARTMENT STORE   False   \n",
       "2  DECEPTIVE PRACTICE         CREDIT CARD FRAUD     DEPARTMENT STORE   False   \n",
       "3       OTHER OFFENSE          TELEPHONE THREAT            APARTMENT   False   \n",
       "4  DECEPTIVE PRACTICE  FRAUD OR CONFIDENCE GAME                OTHER   False   \n",
       "\n",
       "   Domestic              ...                Ward  Community Area  FBI Code  \\\n",
       "0     False              ...                42.0              32        12   \n",
       "1     False              ...                42.0               8        11   \n",
       "2     False              ...                42.0               8        11   \n",
       "3      True              ...                 8.0              44        26   \n",
       "4     False              ...                42.0               8        11   \n",
       "\n",
       "   X Coordinate Y Coordinate  Year              Updated On   Latitude  \\\n",
       "0           NaN          NaN  2014  03/01/2018 03:52:35 PM        NaN   \n",
       "1     1176796.0    1903917.0  2014  02/10/2018 03:50:01 PM  41.891695   \n",
       "2     1177303.0    1905177.0  2014  02/10/2018 03:50:01 PM  41.895141   \n",
       "3     1184330.0    1850584.0  2014  02/10/2018 03:50:01 PM  41.745172   \n",
       "4     1179370.0    1904874.0  2014  02/10/2018 03:50:01 PM  41.894262   \n",
       "\n",
       "   Longitude                       Location  \n",
       "0        NaN                            NaN  \n",
       "1 -87.626156  (41.891694878, -87.626155832)  \n",
       "2 -87.624256  (41.895140898, -87.624255632)  \n",
       "3 -87.600159  (41.745171682, -87.600158569)  \n",
       "4 -87.616673  (41.894262326, -87.616673471)  \n",
       "\n",
       "[5 rows x 22 columns]"
      ]
     },
     "execution_count": 1,
     "metadata": {},
     "output_type": "execute_result"
    }
   ],
   "source": [
    "import pandas as pd\n",
    "\n",
    "data = pd.read_csv(\"crimes-in-chicago/Crimes_-_2014.csv\")\n",
    "\n",
    "data.head()"
   ]
  },
  {
   "cell_type": "code",
   "execution_count": 2,
   "metadata": {},
   "outputs": [
    {
     "data": {
      "text/plain": [
       "6049802"
      ]
     },
     "execution_count": 2,
     "metadata": {},
     "output_type": "execute_result"
    }
   ],
   "source": [
    "data.size"
   ]
  },
  {
   "cell_type": "code",
   "execution_count": 3,
   "metadata": {},
   "outputs": [
    {
     "data": {
      "text/plain": [
       "Index(['ID', 'Case Number', 'Date', 'Block', 'IUCR', 'Primary Type',\n",
       "       'Description', 'Location Description', 'Arrest', 'Domestic', 'Beat',\n",
       "       'District', 'Ward', 'Community Area', 'FBI Code', 'X Coordinate',\n",
       "       'Y Coordinate', 'Year', 'Updated On', 'Latitude', 'Longitude',\n",
       "       'Location'],\n",
       "      dtype='object')"
      ]
     },
     "execution_count": 3,
     "metadata": {},
     "output_type": "execute_result"
    }
   ],
   "source": [
    "data.columns"
   ]
  },
  {
   "cell_type": "markdown",
   "metadata": {},
   "source": [
    "#### Take out the needed columns"
   ]
  },
  {
   "cell_type": "code",
   "execution_count": 4,
   "metadata": {},
   "outputs": [
    {
     "data": {
      "text/html": [
       "<div>\n",
       "<style scoped>\n",
       "    .dataframe tbody tr th:only-of-type {\n",
       "        vertical-align: middle;\n",
       "    }\n",
       "\n",
       "    .dataframe tbody tr th {\n",
       "        vertical-align: top;\n",
       "    }\n",
       "\n",
       "    .dataframe thead th {\n",
       "        text-align: right;\n",
       "    }\n",
       "</style>\n",
       "<table border=\"1\" class=\"dataframe\">\n",
       "  <thead>\n",
       "    <tr style=\"text-align: right;\">\n",
       "      <th></th>\n",
       "      <th>ID</th>\n",
       "      <th>Date</th>\n",
       "      <th>Block</th>\n",
       "      <th>Primary Type</th>\n",
       "      <th>District</th>\n",
       "      <th>Community Area</th>\n",
       "      <th>Latitude</th>\n",
       "      <th>Longitude</th>\n",
       "    </tr>\n",
       "  </thead>\n",
       "  <tbody>\n",
       "    <tr>\n",
       "      <th>0</th>\n",
       "      <td>10581023</td>\n",
       "      <td>09/01/2014 08:00:00 AM</td>\n",
       "      <td>0000X E LAKE ST</td>\n",
       "      <td>DECEPTIVE PRACTICE</td>\n",
       "      <td>1</td>\n",
       "      <td>32</td>\n",
       "      <td>NaN</td>\n",
       "      <td>NaN</td>\n",
       "    </tr>\n",
       "    <tr>\n",
       "      <th>1</th>\n",
       "      <td>10000348</td>\n",
       "      <td>12/15/2014 04:00:00 PM</td>\n",
       "      <td>0000X E GRAND AVE</td>\n",
       "      <td>DECEPTIVE PRACTICE</td>\n",
       "      <td>18</td>\n",
       "      <td>8</td>\n",
       "      <td>41.891695</td>\n",
       "      <td>-87.626156</td>\n",
       "    </tr>\n",
       "    <tr>\n",
       "      <th>2</th>\n",
       "      <td>10000465</td>\n",
       "      <td>12/15/2014 04:30:00 PM</td>\n",
       "      <td>007XX N MICHIGAN AVE</td>\n",
       "      <td>DECEPTIVE PRACTICE</td>\n",
       "      <td>18</td>\n",
       "      <td>8</td>\n",
       "      <td>41.895141</td>\n",
       "      <td>-87.624256</td>\n",
       "    </tr>\n",
       "    <tr>\n",
       "      <th>3</th>\n",
       "      <td>10000517</td>\n",
       "      <td>11/15/2014 12:00:00 PM</td>\n",
       "      <td>082XX S ELLIS AVE</td>\n",
       "      <td>OTHER OFFENSE</td>\n",
       "      <td>6</td>\n",
       "      <td>44</td>\n",
       "      <td>41.745172</td>\n",
       "      <td>-87.600159</td>\n",
       "    </tr>\n",
       "    <tr>\n",
       "      <th>4</th>\n",
       "      <td>10000701</td>\n",
       "      <td>06/20/2014 09:00:00 AM</td>\n",
       "      <td>004XX E ERIE ST</td>\n",
       "      <td>DECEPTIVE PRACTICE</td>\n",
       "      <td>18</td>\n",
       "      <td>8</td>\n",
       "      <td>41.894262</td>\n",
       "      <td>-87.616673</td>\n",
       "    </tr>\n",
       "  </tbody>\n",
       "</table>\n",
       "</div>"
      ],
      "text/plain": [
       "         ID                    Date                 Block        Primary Type  \\\n",
       "0  10581023  09/01/2014 08:00:00 AM       0000X E LAKE ST  DECEPTIVE PRACTICE   \n",
       "1  10000348  12/15/2014 04:00:00 PM     0000X E GRAND AVE  DECEPTIVE PRACTICE   \n",
       "2  10000465  12/15/2014 04:30:00 PM  007XX N MICHIGAN AVE  DECEPTIVE PRACTICE   \n",
       "3  10000517  11/15/2014 12:00:00 PM     082XX S ELLIS AVE       OTHER OFFENSE   \n",
       "4  10000701  06/20/2014 09:00:00 AM       004XX E ERIE ST  DECEPTIVE PRACTICE   \n",
       "\n",
       "   District  Community Area   Latitude  Longitude  \n",
       "0         1              32        NaN        NaN  \n",
       "1        18               8  41.891695 -87.626156  \n",
       "2        18               8  41.895141 -87.624256  \n",
       "3         6              44  41.745172 -87.600159  \n",
       "4        18               8  41.894262 -87.616673  "
      ]
     },
     "execution_count": 4,
     "metadata": {},
     "output_type": "execute_result"
    }
   ],
   "source": [
    "data = data[[\"ID\", \"Date\", \"Block\", \"Primary Type\", \"District\", \"Community Area\", \"Latitude\", \"Longitude\"]]\n",
    "data.head()"
   ]
  },
  {
   "cell_type": "markdown",
   "metadata": {},
   "source": [
    "#### Remove null value in location"
   ]
  },
  {
   "cell_type": "code",
   "execution_count": 5,
   "metadata": {},
   "outputs": [],
   "source": [
    "data2 = data[data['Date'].notnull() & data['Latitude'].notnull() & data['Longitude'].notnull() & data['Primary Type'].notnull()]"
   ]
  },
  {
   "cell_type": "code",
   "execution_count": 6,
   "metadata": {},
   "outputs": [
    {
     "data": {
      "text/plain": [
       "2189688"
      ]
     },
     "execution_count": 6,
     "metadata": {},
     "output_type": "execute_result"
    }
   ],
   "source": [
    "data2.size"
   ]
  },
  {
   "cell_type": "markdown",
   "metadata": {},
   "source": [
    "#### Add Time period column and Datetime column"
   ]
  },
  {
   "cell_type": "code",
   "execution_count": 16,
   "metadata": {},
   "outputs": [],
   "source": [
    "time_period = []\n",
    "\n",
    "date_time = []\n",
    "\n",
    "for index, row in data2.iterrows():\n",
    "    date = pd.to_datetime(row[\"Date\"])\n",
    "    date_time.append(date)\n",
    "    if 4<=date.hour<12:\n",
    "        time_period.append(\"morning\")\n",
    "    elif 12<=date.hour<20:\n",
    "        time_period.append(\"afternoon\")\n",
    "    else:\n",
    "        time_period.append(\"evening\")"
   ]
  },
  {
   "cell_type": "code",
   "execution_count": 32,
   "metadata": {},
   "outputs": [
    {
     "name": "stderr",
     "output_type": "stream",
     "text": [
      "C:\\Users\\newto\\Anaconda3\\lib\\site-packages\\ipykernel_launcher.py:1: SettingWithCopyWarning: \n",
      "A value is trying to be set on a copy of a slice from a DataFrame.\n",
      "Try using .loc[row_indexer,col_indexer] = value instead\n",
      "\n",
      "See the caveats in the documentation: http://pandas.pydata.org/pandas-docs/stable/indexing.html#indexing-view-versus-copy\n",
      "  \"\"\"Entry point for launching an IPython kernel.\n",
      "C:\\Users\\newto\\Anaconda3\\lib\\site-packages\\ipykernel_launcher.py:2: SettingWithCopyWarning: \n",
      "A value is trying to be set on a copy of a slice from a DataFrame.\n",
      "Try using .loc[row_indexer,col_indexer] = value instead\n",
      "\n",
      "See the caveats in the documentation: http://pandas.pydata.org/pandas-docs/stable/indexing.html#indexing-view-versus-copy\n",
      "  \n"
     ]
    }
   ],
   "source": [
    "data2[\"Time Period\"] = time_period\n",
    "data2[\"Datetime\"] = date_time"
   ]
  },
  {
   "cell_type": "code",
   "execution_count": 16,
   "metadata": {},
   "outputs": [],
   "source": [
    "data2 = data2[[\"Datetime\", \"Primary Type\", \"District\", \"Community Area\", \"Latitude\", \"Longitude\",\"Time Period\"]]"
   ]
  },
  {
   "cell_type": "code",
   "execution_count": 17,
   "metadata": {},
   "outputs": [
    {
     "data": {
      "text/html": [
       "<div>\n",
       "<style scoped>\n",
       "    .dataframe tbody tr th:only-of-type {\n",
       "        vertical-align: middle;\n",
       "    }\n",
       "\n",
       "    .dataframe tbody tr th {\n",
       "        vertical-align: top;\n",
       "    }\n",
       "\n",
       "    .dataframe thead th {\n",
       "        text-align: right;\n",
       "    }\n",
       "</style>\n",
       "<table border=\"1\" class=\"dataframe\">\n",
       "  <thead>\n",
       "    <tr style=\"text-align: right;\">\n",
       "      <th></th>\n",
       "      <th>Datetime</th>\n",
       "      <th>Primary Type</th>\n",
       "      <th>District</th>\n",
       "      <th>Community Area</th>\n",
       "      <th>Latitude</th>\n",
       "      <th>Longitude</th>\n",
       "      <th>Time Period</th>\n",
       "    </tr>\n",
       "  </thead>\n",
       "  <tbody>\n",
       "    <tr>\n",
       "      <th>1</th>\n",
       "      <td>2014-12-15 16:00:00</td>\n",
       "      <td>DECEPTIVE PRACTICE</td>\n",
       "      <td>18</td>\n",
       "      <td>8</td>\n",
       "      <td>41.891695</td>\n",
       "      <td>-87.626156</td>\n",
       "      <td>afternoon</td>\n",
       "    </tr>\n",
       "    <tr>\n",
       "      <th>2</th>\n",
       "      <td>2014-12-15 16:30:00</td>\n",
       "      <td>DECEPTIVE PRACTICE</td>\n",
       "      <td>18</td>\n",
       "      <td>8</td>\n",
       "      <td>41.895141</td>\n",
       "      <td>-87.624256</td>\n",
       "      <td>afternoon</td>\n",
       "    </tr>\n",
       "    <tr>\n",
       "      <th>3</th>\n",
       "      <td>2014-11-15 12:00:00</td>\n",
       "      <td>OTHER OFFENSE</td>\n",
       "      <td>6</td>\n",
       "      <td>44</td>\n",
       "      <td>41.745172</td>\n",
       "      <td>-87.600159</td>\n",
       "      <td>afternoon</td>\n",
       "    </tr>\n",
       "    <tr>\n",
       "      <th>4</th>\n",
       "      <td>2014-06-20 09:00:00</td>\n",
       "      <td>DECEPTIVE PRACTICE</td>\n",
       "      <td>18</td>\n",
       "      <td>8</td>\n",
       "      <td>41.894262</td>\n",
       "      <td>-87.616673</td>\n",
       "      <td>morning</td>\n",
       "    </tr>\n",
       "    <tr>\n",
       "      <th>5</th>\n",
       "      <td>2014-03-15 09:00:00</td>\n",
       "      <td>DECEPTIVE PRACTICE</td>\n",
       "      <td>15</td>\n",
       "      <td>25</td>\n",
       "      <td>41.881737</td>\n",
       "      <td>-87.751484</td>\n",
       "      <td>morning</td>\n",
       "    </tr>\n",
       "  </tbody>\n",
       "</table>\n",
       "</div>"
      ],
      "text/plain": [
       "             Datetime        Primary Type  District  Community Area  \\\n",
       "1 2014-12-15 16:00:00  DECEPTIVE PRACTICE        18               8   \n",
       "2 2014-12-15 16:30:00  DECEPTIVE PRACTICE        18               8   \n",
       "3 2014-11-15 12:00:00       OTHER OFFENSE         6              44   \n",
       "4 2014-06-20 09:00:00  DECEPTIVE PRACTICE        18               8   \n",
       "5 2014-03-15 09:00:00  DECEPTIVE PRACTICE        15              25   \n",
       "\n",
       "    Latitude  Longitude Time Period  \n",
       "1  41.891695 -87.626156   afternoon  \n",
       "2  41.895141 -87.624256   afternoon  \n",
       "3  41.745172 -87.600159   afternoon  \n",
       "4  41.894262 -87.616673     morning  \n",
       "5  41.881737 -87.751484     morning  "
      ]
     },
     "execution_count": 17,
     "metadata": {},
     "output_type": "execute_result"
    }
   ],
   "source": [
    "data2.head()"
   ]
  },
  {
   "cell_type": "code",
   "execution_count": 18,
   "metadata": {},
   "outputs": [],
   "source": [
    "data2.to_pickle(\"crime_data_2014.pkl\")"
   ]
  }
 ],
 "metadata": {
  "kernelspec": {
   "display_name": "Python 3",
   "language": "python",
   "name": "python3"
  },
  "language_info": {
   "codemirror_mode": {
    "name": "ipython",
    "version": 3
   },
   "file_extension": ".py",
   "mimetype": "text/x-python",
   "name": "python",
   "nbconvert_exporter": "python",
   "pygments_lexer": "ipython3",
   "version": "3.6.5"
  }
 },
 "nbformat": 4,
 "nbformat_minor": 2
}
